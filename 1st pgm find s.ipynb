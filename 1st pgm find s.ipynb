{
 "cells": [
  {
   "cell_type": "markdown",
   "metadata": {},
   "source": [
    "#  Find s alg"
   ]
  },
  {
   "cell_type": "code",
   "execution_count": 1,
   "metadata": {},
   "outputs": [
    {
     "name": "stdout",
     "output_type": "stream",
     "text": [
      "     Sky Temperature Humidity    Wind Water Forecast Enjoy\n",
      "0  sunny        warm   normal  strong  warm    same    yes\n",
      "1  sunny        warm     high  strong  warm    same    yes\n",
      "2  rainy        cold     high  strong  warm   change    no\n",
      "3  sunny        warm     high  strong  cool   change   yes \n",
      "\n",
      "The attributes are:\n",
      " [['sunny' 'warm' 'normal' 'strong' 'warm' 'same ']\n",
      " ['sunny' 'warm' 'high' 'strong' 'warm' 'same ']\n",
      " ['rainy' 'cold' 'high' 'strong' 'warm' 'change']\n",
      " ['sunny' 'warm' 'high' 'strong' 'cool' 'change']] \n",
      "\n",
      "The target is:\n",
      " ['yes' 'yes' 'no' 'yes'] \n",
      "\n",
      "The final hypothesis is: ['sunny' 'warm' '?' 'strong' '?' '?']\n"
     ]
    }
   ],
   "source": [
    "import pandas as pd\n",
    "import numpy as np\n",
    "\n",
    "data = pd.read_csv(\"Balaji1.csv\")\n",
    "print(data, \"\\n\")\n",
    "\n",
    "d = np.array(data)[:, :-1]\n",
    "print(\"The attributes are:\\n\", d, \"\\n\")\n",
    "\n",
    "target = np.array(data)[:, -1]\n",
    "print(\"The target is:\\n\", target, \"\\n\")\n",
    "\n",
    "def train(c, t):\n",
    "    specific_hypothesis = None\n",
    "    specific_hypothesis\n",
    "\n",
    "    for i, val in enumerate(t):\n",
    "        if val == \"yes\":\n",
    "            specific_hypothesis = c[i].copy()\n",
    "            break\n",
    "\n",
    "        if specific_hypothesis is None:\n",
    "            return \"No positive examples found, cannot generate hypothesis\"\n",
    "\n",
    "    for i, val in enumerate(c):\n",
    "        if t[i] == \"yes\":\n",
    "            for x in range(len(specific_hypothesis)):\n",
    "                if val[x] != specific_hypothesis[x]:\n",
    "                    specific_hypothesis[x] = '?'\n",
    "    return specific_hypothesis\n",
    "\n",
    "print(\"The final hypothesis is:\", train(d, target))\n"
   ]
  },
  {
   "cell_type": "code",
   "execution_count": null,
   "metadata": {},
   "outputs": [],
   "source": []
  }
 ],
 "metadata": {
  "kernelspec": {
   "display_name": "Python 3",
   "language": "python",
   "name": "python3"
  },
  "language_info": {
   "codemirror_mode": {
    "name": "ipython",
    "version": 3
   },
   "file_extension": ".py",
   "mimetype": "text/x-python",
   "name": "python",
   "nbconvert_exporter": "python",
   "pygments_lexer": "ipython3",
   "version": "3.8.3"
  }
 },
 "nbformat": 4,
 "nbformat_minor": 4
}
