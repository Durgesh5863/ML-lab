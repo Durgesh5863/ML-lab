{
 "cells": [
  {
   "cell_type": "code",
   "execution_count": 1,
   "metadata": {},
   "outputs": [],
   "source": [
    "import pandas as pd\n",
    "import numpy as np"
   ]
  },
  {
   "cell_type": "code",
   "execution_count": 2,
   "metadata": {},
   "outputs": [
    {
     "data": {
      "text/html": [
       "<div>\n",
       "<style scoped>\n",
       "    .dataframe tbody tr th:only-of-type {\n",
       "        vertical-align: middle;\n",
       "    }\n",
       "\n",
       "    .dataframe tbody tr th {\n",
       "        vertical-align: top;\n",
       "    }\n",
       "\n",
       "    .dataframe thead th {\n",
       "        text-align: right;\n",
       "    }\n",
       "</style>\n",
       "<table border=\"1\" class=\"dataframe\">\n",
       "  <thead>\n",
       "    <tr style=\"text-align: right;\">\n",
       "      <th></th>\n",
       "      <th>Sky</th>\n",
       "      <th>Temperature</th>\n",
       "      <th>Humidity</th>\n",
       "      <th>Wind</th>\n",
       "      <th>Water</th>\n",
       "      <th>Forecast</th>\n",
       "      <th>Enjoy</th>\n",
       "    </tr>\n",
       "  </thead>\n",
       "  <tbody>\n",
       "    <tr>\n",
       "      <th>0</th>\n",
       "      <td>sunny</td>\n",
       "      <td>warm</td>\n",
       "      <td>normal</td>\n",
       "      <td>strong</td>\n",
       "      <td>warm</td>\n",
       "      <td>same</td>\n",
       "      <td>yes</td>\n",
       "    </tr>\n",
       "    <tr>\n",
       "      <th>1</th>\n",
       "      <td>sunny</td>\n",
       "      <td>warm</td>\n",
       "      <td>high</td>\n",
       "      <td>strong</td>\n",
       "      <td>warm</td>\n",
       "      <td>same</td>\n",
       "      <td>yes</td>\n",
       "    </tr>\n",
       "    <tr>\n",
       "      <th>2</th>\n",
       "      <td>rainy</td>\n",
       "      <td>cold</td>\n",
       "      <td>high</td>\n",
       "      <td>strong</td>\n",
       "      <td>warm</td>\n",
       "      <td>change</td>\n",
       "      <td>no</td>\n",
       "    </tr>\n",
       "    <tr>\n",
       "      <th>3</th>\n",
       "      <td>sunny</td>\n",
       "      <td>warm</td>\n",
       "      <td>high</td>\n",
       "      <td>strong</td>\n",
       "      <td>cool</td>\n",
       "      <td>change</td>\n",
       "      <td>yes</td>\n",
       "    </tr>\n",
       "  </tbody>\n",
       "</table>\n",
       "</div>"
      ],
      "text/plain": [
       "     Sky Temperature Humidity    Wind Water Forecast Enjoy\n",
       "0  sunny        warm   normal  strong  warm    same    yes\n",
       "1  sunny        warm     high  strong  warm    same    yes\n",
       "2  rainy        cold     high  strong  warm   change    no\n",
       "3  sunny        warm     high  strong  cool   change   yes"
      ]
     },
     "execution_count": 2,
     "metadata": {},
     "output_type": "execute_result"
    }
   ],
   "source": [
    "data=pd.read_csv(\"Balaji1.csv\")\n",
    "data"
   ]
  },
  {
   "cell_type": "code",
   "execution_count": 3,
   "metadata": {},
   "outputs": [
    {
     "data": {
      "text/plain": [
       "array([['sunny', 'warm', 'normal', 'strong', 'warm', 'same '],\n",
       "       ['sunny', 'warm', 'high', 'strong', 'warm', 'same '],\n",
       "       ['rainy', 'cold', 'high', 'strong', 'warm', 'change'],\n",
       "       ['sunny', 'warm', 'high', 'strong', 'cool', 'change']],\n",
       "      dtype=object)"
      ]
     },
     "execution_count": 3,
     "metadata": {},
     "output_type": "execute_result"
    }
   ],
   "source": [
    "attributes=np.array(data)[:,:-1]\n",
    "attributes"
   ]
  },
  {
   "cell_type": "code",
   "execution_count": 4,
   "metadata": {},
   "outputs": [
    {
     "data": {
      "text/plain": [
       "array(['yes', 'yes', 'no', 'yes'], dtype=object)"
      ]
     },
     "execution_count": 4,
     "metadata": {},
     "output_type": "execute_result"
    }
   ],
   "source": [
    "target=np.array(data)[:,-1]\n",
    "target"
   ]
  },
  {
   "cell_type": "code",
   "execution_count": 5,
   "metadata": {},
   "outputs": [
    {
     "name": "stdout",
     "output_type": "stream",
     "text": [
      "initialisation and specific and general hypothesis\n",
      "specific boundary :  ['sunny' 'warm' 'normal' 'strong' 'warm' 'same ']\n",
      "generic boundary :  [['?', '?', '?', '?', '?', '?'], ['?', '?', '?', '?', '?', '?'], ['?', '?', '?', '?', '?', '?'], ['?', '?', '?', '?', '?', '?'], ['?', '?', '?', '?', '?', '?'], ['?', '?', '?', '?', '?', '?']]\n",
      "instance 1 is ['sunny' 'warm' 'normal' 'strong' 'warm' 'same ']\n",
      "instance is positive\n",
      "specific boundary :  1 instance is ['sunny' 'warm' 'normal' 'strong' 'warm' 'same ']\n",
      "generic boundary:  1 instance is [['?', '?', '?', '?', '?', '?'], ['?', '?', '?', '?', '?', '?'], ['?', '?', '?', '?', '?', '?'], ['?', '?', '?', '?', '?', '?'], ['?', '?', '?', '?', '?', '?'], ['?', '?', '?', '?', '?', '?']]\n",
      "instance 2 is ['sunny' 'warm' 'high' 'strong' 'warm' 'same ']\n",
      "instance is positive\n",
      "specific boundary :  2 instance is ['sunny' 'warm' '?' 'strong' 'warm' 'same ']\n",
      "generic boundary:  2 instance is [['?', '?', '?', '?', '?', '?'], ['?', '?', '?', '?', '?', '?'], ['?', '?', '?', '?', '?', '?'], ['?', '?', '?', '?', '?', '?'], ['?', '?', '?', '?', '?', '?'], ['?', '?', '?', '?', '?', '?']]\n",
      "instance 3 is ['rainy' 'cold' 'high' 'strong' 'warm' 'change']\n",
      "instance is negative\n",
      "specific boundary :  3 instance is ['sunny' 'warm' '?' 'strong' 'warm' 'same ']\n",
      "generic boundary:  3 instance is [['sunny', '?', '?', '?', '?', '?'], ['?', 'warm', '?', '?', '?', '?'], ['?', '?', '?', '?', '?', '?'], ['?', '?', '?', '?', '?', '?'], ['?', '?', '?', '?', '?', '?'], ['?', '?', '?', '?', '?', 'same ']]\n",
      "instance 4 is ['sunny' 'warm' 'high' 'strong' 'cool' 'change']\n",
      "instance is positive\n",
      "specific boundary :  4 instance is ['sunny' 'warm' '?' 'strong' '?' '?']\n",
      "generic boundary:  4 instance is [['sunny', '?', '?', '?', '?', '?'], ['?', 'warm', '?', '?', '?', '?'], ['?', '?', '?', '?', '?', '?'], ['?', '?', '?', '?', '?', '?'], ['?', '?', '?', '?', '?', '?'], ['?', '?', '?', '?', '?', '?']]\n",
      "final sp_hyp ['sunny' 'warm' '?' 'strong' '?' '?']\n",
      "final gen_hyp [['sunny', '?', '?', '?', '?', '?'], ['?', 'warm', '?', '?', '?', '?']]\n"
     ]
    }
   ],
   "source": [
    "def learn(attributes,target):\n",
    "    sp_hyp=attributes[0].copy()\n",
    "    print(\"initialisation and specific and general hypothesis\")\n",
    "    print(\"specific boundary : \", sp_hyp)\n",
    "    gen_hyp=[[\"?\" for i in range (len(sp_hyp))] for i in range(len(sp_hyp))]\n",
    "    print(\"generic boundary : \", gen_hyp)\n",
    "    for i,h in enumerate(attributes):\n",
    "        print(\"instance\",i+1,\"is\",h)\n",
    "        if target[i] ==\"yes\" :\n",
    "            print(\"instance is positive\")\n",
    "            for x in range(len(sp_hyp)) : \n",
    "                if h[x] != sp_hyp[x] :\n",
    "                    sp_hyp[x]= \"?\"\n",
    "                    gen_hyp[x][x]= \"?\"\n",
    "        if target[i] == \"no\" :\n",
    "            print(\"instance is negative\")\n",
    "            for x in range(len(sp_hyp)) : \n",
    "                if h[x] != sp_hyp[x] :\n",
    "                    gen_hyp[x][x] = sp_hyp[x]\n",
    "                else:\n",
    "                     gen_hyp[x][x] = \"?\"\n",
    "        print(\"specific boundary : \",i+1,\"instance is\",sp_hyp)\n",
    "        print(\"generic boundary: \",i+1,\"instance is\",gen_hyp) \n",
    "    indices =[i for i, val in enumerate(gen_hyp) if val == [\"?\",\"?\",\"?\",\"?\",\"?\",\"?\"]]\n",
    "    for i in indices :\n",
    "        gen_hyp.remove([\"?\",\"?\",\"?\",\"?\",\"?\",\"?\"])\n",
    "    return sp_hyp , gen_hyp \n",
    "sfinal,gfinal=learn(attributes,target)\n",
    "print(\"final sp_hyp\",sfinal)\n",
    "print(\"final gen_hyp\",gfinal)"
   ]
  }
 ],
 "metadata": {
  "kernelspec": {
   "display_name": "Python 3",
   "language": "python",
   "name": "python3"
  },
  "language_info": {
   "codemirror_mode": {
    "name": "ipython",
    "version": 3
   },
   "file_extension": ".py",
   "mimetype": "text/x-python",
   "name": "python",
   "nbconvert_exporter": "python",
   "pygments_lexer": "ipython3",
   "version": "3.8.3"
  }
 },
 "nbformat": 4,
 "nbformat_minor": 4
}
